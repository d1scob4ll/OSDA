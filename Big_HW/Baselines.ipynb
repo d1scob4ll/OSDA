{
 "cells": [
  {
   "cell_type": "code",
   "execution_count": 1,
   "id": "cb2907b5-b5c5-4511-9c17-216363211b77",
   "metadata": {
    "tags": []
   },
   "outputs": [
    {
     "name": "stdout",
     "output_type": "stream",
     "text": [
      "Requirement already satisfied: xgboost in c:\\users\\nimo\\anaconda3\\lib\\site-packages (2.0.0)\n",
      "Requirement already satisfied: numpy in c:\\users\\nimo\\anaconda3\\lib\\site-packages (from xgboost) (1.24.3)\n",
      "Requirement already satisfied: scipy in c:\\users\\nimo\\anaconda3\\lib\\site-packages (from xgboost) (1.10.1)\n"
     ]
    }
   ],
   "source": [
    "!pip install xgboost"
   ]
  },
  {
   "cell_type": "code",
   "execution_count": 1,
   "id": "25b47dd3-d721-44d1-9bd7-82eec9bcff3a",
   "metadata": {},
   "outputs": [],
   "source": [
    "import pandas as pd\n",
    "import urllib.request\n",
    "\n",
    "\n",
    "import pandas as pd\n",
    "import numpy as np\n",
    "from pathlib import Path\n",
    "from sklearn.model_selection import KFold, GridSearchCV\n",
    "from sklearn.metrics import accuracy_score, f1_score, make_scorer\n",
    "\n",
    "from sklearn.tree import DecisionTreeClassifier\n",
    "from sklearn.ensemble import RandomForestClassifier\n",
    "from xgboost import XGBClassifier \n",
    "from sklearn.neighbors import KNeighborsClassifier\n",
    "from sklearn.linear_model import LogisticRegression\n",
    "from sklearn.model_selection import train_test_split\n",
    "RAND=1488"
   ]
  },
  {
   "cell_type": "code",
   "execution_count": 2,
   "id": "9858b88c-a335-4c8b-9629-72277bff27f8",
   "metadata": {},
   "outputs": [],
   "source": [
    "import warnings\n",
    "warnings.filterwarnings('ignore')"
   ]
  },
  {
   "cell_type": "markdown",
   "id": "d9fb1f07-4830-4ce2-8c74-d0e119485fd3",
   "metadata": {
    "jp-MarkdownHeadingCollapsed": true,
    "tags": []
   },
   "source": [
    "# FIRST DATASET"
   ]
  },
  {
   "cell_type": "code",
   "execution_count": 14,
   "id": "d316edd0-753d-48ec-95bf-5321bb9a6c7c",
   "metadata": {
    "tags": []
   },
   "outputs": [],
   "source": [
    "from ucimlrepo import fetch_ucirepo \n",
    "\n",
    "wine = fetch_ucirepo(id=109) \n",
    "X = wine.data.features \n",
    "y = wine.data.targets "
   ]
  },
  {
   "cell_type": "code",
   "execution_count": 65,
   "id": "1beebcf9-9e27-4b50-af5b-8809f6c2c763",
   "metadata": {
    "tags": []
   },
   "outputs": [
    {
     "data": {
      "text/html": [
       "<div>\n",
       "<style scoped>\n",
       "    .dataframe tbody tr th:only-of-type {\n",
       "        vertical-align: middle;\n",
       "    }\n",
       "\n",
       "    .dataframe tbody tr th {\n",
       "        vertical-align: top;\n",
       "    }\n",
       "\n",
       "    .dataframe thead th {\n",
       "        text-align: right;\n",
       "    }\n",
       "</style>\n",
       "<table border=\"1\" class=\"dataframe\">\n",
       "  <thead>\n",
       "    <tr style=\"text-align: right;\">\n",
       "      <th></th>\n",
       "      <th>Alcohol</th>\n",
       "      <th>Malicacid</th>\n",
       "      <th>Ash</th>\n",
       "      <th>Alcalinity_of_ash</th>\n",
       "      <th>Magnesium</th>\n",
       "      <th>Total_phenols</th>\n",
       "      <th>Flavanoids</th>\n",
       "      <th>Nonflavanoid_phenols</th>\n",
       "      <th>Proanthocyanins</th>\n",
       "      <th>Color_intensity</th>\n",
       "      <th>Hue</th>\n",
       "      <th>0D280_0D315_of_diluted_wines</th>\n",
       "      <th>Proline</th>\n",
       "    </tr>\n",
       "  </thead>\n",
       "  <tbody>\n",
       "    <tr>\n",
       "      <th>0</th>\n",
       "      <td>14.23</td>\n",
       "      <td>1.71</td>\n",
       "      <td>2.43</td>\n",
       "      <td>15.6</td>\n",
       "      <td>127</td>\n",
       "      <td>2.80</td>\n",
       "      <td>3.06</td>\n",
       "      <td>0.28</td>\n",
       "      <td>2.29</td>\n",
       "      <td>5.64</td>\n",
       "      <td>1.04</td>\n",
       "      <td>3.92</td>\n",
       "      <td>1065</td>\n",
       "    </tr>\n",
       "    <tr>\n",
       "      <th>1</th>\n",
       "      <td>13.20</td>\n",
       "      <td>1.78</td>\n",
       "      <td>2.14</td>\n",
       "      <td>11.2</td>\n",
       "      <td>100</td>\n",
       "      <td>2.65</td>\n",
       "      <td>2.76</td>\n",
       "      <td>0.26</td>\n",
       "      <td>1.28</td>\n",
       "      <td>4.38</td>\n",
       "      <td>1.05</td>\n",
       "      <td>3.40</td>\n",
       "      <td>1050</td>\n",
       "    </tr>\n",
       "    <tr>\n",
       "      <th>2</th>\n",
       "      <td>13.16</td>\n",
       "      <td>2.36</td>\n",
       "      <td>2.67</td>\n",
       "      <td>18.6</td>\n",
       "      <td>101</td>\n",
       "      <td>2.80</td>\n",
       "      <td>3.24</td>\n",
       "      <td>0.30</td>\n",
       "      <td>2.81</td>\n",
       "      <td>5.68</td>\n",
       "      <td>1.03</td>\n",
       "      <td>3.17</td>\n",
       "      <td>1185</td>\n",
       "    </tr>\n",
       "    <tr>\n",
       "      <th>3</th>\n",
       "      <td>14.37</td>\n",
       "      <td>1.95</td>\n",
       "      <td>2.50</td>\n",
       "      <td>16.8</td>\n",
       "      <td>113</td>\n",
       "      <td>3.85</td>\n",
       "      <td>3.49</td>\n",
       "      <td>0.24</td>\n",
       "      <td>2.18</td>\n",
       "      <td>7.80</td>\n",
       "      <td>0.86</td>\n",
       "      <td>3.45</td>\n",
       "      <td>1480</td>\n",
       "    </tr>\n",
       "    <tr>\n",
       "      <th>4</th>\n",
       "      <td>13.24</td>\n",
       "      <td>2.59</td>\n",
       "      <td>2.87</td>\n",
       "      <td>21.0</td>\n",
       "      <td>118</td>\n",
       "      <td>2.80</td>\n",
       "      <td>2.69</td>\n",
       "      <td>0.39</td>\n",
       "      <td>1.82</td>\n",
       "      <td>4.32</td>\n",
       "      <td>1.04</td>\n",
       "      <td>2.93</td>\n",
       "      <td>735</td>\n",
       "    </tr>\n",
       "    <tr>\n",
       "      <th>...</th>\n",
       "      <td>...</td>\n",
       "      <td>...</td>\n",
       "      <td>...</td>\n",
       "      <td>...</td>\n",
       "      <td>...</td>\n",
       "      <td>...</td>\n",
       "      <td>...</td>\n",
       "      <td>...</td>\n",
       "      <td>...</td>\n",
       "      <td>...</td>\n",
       "      <td>...</td>\n",
       "      <td>...</td>\n",
       "      <td>...</td>\n",
       "    </tr>\n",
       "    <tr>\n",
       "      <th>173</th>\n",
       "      <td>13.71</td>\n",
       "      <td>5.65</td>\n",
       "      <td>2.45</td>\n",
       "      <td>20.5</td>\n",
       "      <td>95</td>\n",
       "      <td>1.68</td>\n",
       "      <td>0.61</td>\n",
       "      <td>0.52</td>\n",
       "      <td>1.06</td>\n",
       "      <td>7.70</td>\n",
       "      <td>0.64</td>\n",
       "      <td>1.74</td>\n",
       "      <td>740</td>\n",
       "    </tr>\n",
       "    <tr>\n",
       "      <th>174</th>\n",
       "      <td>13.40</td>\n",
       "      <td>3.91</td>\n",
       "      <td>2.48</td>\n",
       "      <td>23.0</td>\n",
       "      <td>102</td>\n",
       "      <td>1.80</td>\n",
       "      <td>0.75</td>\n",
       "      <td>0.43</td>\n",
       "      <td>1.41</td>\n",
       "      <td>7.30</td>\n",
       "      <td>0.70</td>\n",
       "      <td>1.56</td>\n",
       "      <td>750</td>\n",
       "    </tr>\n",
       "    <tr>\n",
       "      <th>175</th>\n",
       "      <td>13.27</td>\n",
       "      <td>4.28</td>\n",
       "      <td>2.26</td>\n",
       "      <td>20.0</td>\n",
       "      <td>120</td>\n",
       "      <td>1.59</td>\n",
       "      <td>0.69</td>\n",
       "      <td>0.43</td>\n",
       "      <td>1.35</td>\n",
       "      <td>10.20</td>\n",
       "      <td>0.59</td>\n",
       "      <td>1.56</td>\n",
       "      <td>835</td>\n",
       "    </tr>\n",
       "    <tr>\n",
       "      <th>176</th>\n",
       "      <td>13.17</td>\n",
       "      <td>2.59</td>\n",
       "      <td>2.37</td>\n",
       "      <td>20.0</td>\n",
       "      <td>120</td>\n",
       "      <td>1.65</td>\n",
       "      <td>0.68</td>\n",
       "      <td>0.53</td>\n",
       "      <td>1.46</td>\n",
       "      <td>9.30</td>\n",
       "      <td>0.60</td>\n",
       "      <td>1.62</td>\n",
       "      <td>840</td>\n",
       "    </tr>\n",
       "    <tr>\n",
       "      <th>177</th>\n",
       "      <td>14.13</td>\n",
       "      <td>4.10</td>\n",
       "      <td>2.74</td>\n",
       "      <td>24.5</td>\n",
       "      <td>96</td>\n",
       "      <td>2.05</td>\n",
       "      <td>0.76</td>\n",
       "      <td>0.56</td>\n",
       "      <td>1.35</td>\n",
       "      <td>9.20</td>\n",
       "      <td>0.61</td>\n",
       "      <td>1.60</td>\n",
       "      <td>560</td>\n",
       "    </tr>\n",
       "  </tbody>\n",
       "</table>\n",
       "<p>178 rows × 13 columns</p>\n",
       "</div>"
      ],
      "text/plain": [
       "     Alcohol  Malicacid   Ash  Alcalinity_of_ash  Magnesium  Total_phenols  \\\n",
       "0      14.23       1.71  2.43               15.6        127           2.80   \n",
       "1      13.20       1.78  2.14               11.2        100           2.65   \n",
       "2      13.16       2.36  2.67               18.6        101           2.80   \n",
       "3      14.37       1.95  2.50               16.8        113           3.85   \n",
       "4      13.24       2.59  2.87               21.0        118           2.80   \n",
       "..       ...        ...   ...                ...        ...            ...   \n",
       "173    13.71       5.65  2.45               20.5         95           1.68   \n",
       "174    13.40       3.91  2.48               23.0        102           1.80   \n",
       "175    13.27       4.28  2.26               20.0        120           1.59   \n",
       "176    13.17       2.59  2.37               20.0        120           1.65   \n",
       "177    14.13       4.10  2.74               24.5         96           2.05   \n",
       "\n",
       "     Flavanoids  Nonflavanoid_phenols  Proanthocyanins  Color_intensity   Hue  \\\n",
       "0          3.06                  0.28             2.29             5.64  1.04   \n",
       "1          2.76                  0.26             1.28             4.38  1.05   \n",
       "2          3.24                  0.30             2.81             5.68  1.03   \n",
       "3          3.49                  0.24             2.18             7.80  0.86   \n",
       "4          2.69                  0.39             1.82             4.32  1.04   \n",
       "..          ...                   ...              ...              ...   ...   \n",
       "173        0.61                  0.52             1.06             7.70  0.64   \n",
       "174        0.75                  0.43             1.41             7.30  0.70   \n",
       "175        0.69                  0.43             1.35            10.20  0.59   \n",
       "176        0.68                  0.53             1.46             9.30  0.60   \n",
       "177        0.76                  0.56             1.35             9.20  0.61   \n",
       "\n",
       "     0D280_0D315_of_diluted_wines  Proline  \n",
       "0                            3.92     1065  \n",
       "1                            3.40     1050  \n",
       "2                            3.17     1185  \n",
       "3                            3.45     1480  \n",
       "4                            2.93      735  \n",
       "..                            ...      ...  \n",
       "173                          1.74      740  \n",
       "174                          1.56      750  \n",
       "175                          1.56      835  \n",
       "176                          1.62      840  \n",
       "177                          1.60      560  \n",
       "\n",
       "[178 rows x 13 columns]"
      ]
     },
     "execution_count": 65,
     "metadata": {},
     "output_type": "execute_result"
    }
   ],
   "source": [
    "X"
   ]
  },
  {
   "cell_type": "code",
   "execution_count": 66,
   "id": "6af10ac7-76ef-40d7-a703-1e9c2d132b4c",
   "metadata": {
    "tags": []
   },
   "outputs": [],
   "source": [
    "indices_to_drop = y[y == 3].dropna().index\n",
    "\n",
    "X = X.drop(indices_to_drop)\n",
    "y = y.drop(indices_to_drop)\n",
    "y['class'] = y['class'] == 2"
   ]
  },
  {
   "cell_type": "code",
   "execution_count": 67,
   "id": "7c9f9fda-456d-492e-936d-625fe8484638",
   "metadata": {
    "tags": []
   },
   "outputs": [],
   "source": [
    "for col in X.columns:\n",
    "    median_val = X[col].median()\n",
    "    X.loc[:, col] = X[col] >= median_val"
   ]
  },
  {
   "cell_type": "code",
   "execution_count": 13,
   "id": "ae541f03-950a-46a9-aca1-466f8f8b8141",
   "metadata": {
    "tags": []
   },
   "outputs": [],
   "source": [
    "Models = [\"DecisionTreeClassifier\", \"RandomForestClassifier\", \"XGBClassifier\", \"KNeighborsClassifier\", \"LogisticRegression\"]\n",
    "data = []"
   ]
  },
  {
   "cell_type": "code",
   "execution_count": 69,
   "id": "db796120-b611-4096-82b0-49d8dc17b57c",
   "metadata": {
    "tags": []
   },
   "outputs": [],
   "source": [
    "data_NO = 1"
   ]
  },
  {
   "cell_type": "code",
   "execution_count": 22,
   "id": "2be7d77b-350f-4d25-bf95-cd3b0210b9cd",
   "metadata": {
    "tags": []
   },
   "outputs": [],
   "source": [
    "def train(X_df, y, model0, params, spliter, scores=None):\n",
    "    if scores == None:\n",
    "        scores=[\"accuracy\", \"f1\"]\n",
    "    clf = GridSearchCV(model0, params, scoring=scores, refit=\"f1\", cv=spliter)\n",
    "    clf.fit(X,y)\n",
    "    best_model = clf.best_estimator_\n",
    "    ind = clf.best_index_\n",
    "    res = [clf.best_params_]\n",
    "    for sc in scores:\n",
    "        res.append(clf.cv_results_[\"mean_test_\"+sc][ind])\n",
    "    return res\n",
    "\n",
    "spliter = KFold(n_splits=5, shuffle=True, random_state=RAND)"
   ]
  },
  {
   "cell_type": "code",
   "execution_count": 71,
   "id": "530c63b5-3e32-4d3f-a1de-9fa189bb8d19",
   "metadata": {
    "tags": []
   },
   "outputs": [
    {
     "data": {
      "text/plain": [
       "['DecisionTreeClassifier',\n",
       " 1,\n",
       " {'max_depth': 5, 'min_samples_split': 6},\n",
       " 0.9615384615384617,\n",
       " 0.9608446833930705]"
      ]
     },
     "execution_count": 71,
     "metadata": {},
     "output_type": "execute_result"
    }
   ],
   "source": [
    "model1 = DecisionTreeClassifier(random_state=RAND)\n",
    "params = \\\n",
    "    {\"max_depth\": [5, 6, 7, 8, 9, 10],\n",
    "     \"min_samples_split\": [2, 4, 5, 6]}\n",
    "\n",
    "res=[Models[0], data_NO]\n",
    "res.extend(train(X, y, model1, params, spliter, scores={\"acc\" : make_scorer(accuracy_score), \"f1\" : make_scorer(f1_score, average=\"macro\")}))\n",
    "data.append(res)\n",
    "data[-1]"
   ]
  },
  {
   "cell_type": "code",
   "execution_count": 72,
   "id": "eb71611c-f564-4973-ac3f-09ea25e52a44",
   "metadata": {
    "tags": []
   },
   "outputs": [
    {
     "data": {
      "text/plain": [
       "['RandomForestClassifier',\n",
       " 1,\n",
       " {'max_depth': 3, 'min_samples_split': 5, 'n_estimators': 25},\n",
       " 0.9692307692307693,\n",
       " 0.9688323946065882]"
      ]
     },
     "execution_count": 72,
     "metadata": {},
     "output_type": "execute_result"
    }
   ],
   "source": [
    "model2 = RandomForestClassifier(random_state=RAND)\n",
    "params = \\\n",
    "    {\"n_estimators\": [25, 30, 35, 40],\n",
    "     \"max_depth\": [3, 4, 5],\n",
    "     \"min_samples_split\" : [2, 3, 4, 5]}\n",
    "res=[Models[1], data_NO]\n",
    "res.extend(train(X, y, model2, params, spliter, scores={\"acc\" : make_scorer(accuracy_score), \"f1\" : make_scorer(f1_score, average=\"macro\")}))\n",
    "data.append(res)\n",
    "data[-1]"
   ]
  },
  {
   "cell_type": "code",
   "execution_count": 73,
   "id": "365fca10-6ec6-46cf-8d5e-8372bbace4dc",
   "metadata": {
    "tags": []
   },
   "outputs": [
    {
     "data": {
      "text/plain": [
       "['XGBClassifier',\n",
       " 1,\n",
       " {'learning_rate': 0.7, 'max_depth': 2, 'n_estimators': 9},\n",
       " 0.976923076923077,\n",
       " 0.976512483133753]"
      ]
     },
     "execution_count": 73,
     "metadata": {},
     "output_type": "execute_result"
    }
   ],
   "source": [
    "model3 = XGBClassifier(random_state=RAND)\n",
    "params = \\\n",
    "    {\"n_estimators\": [3, 5, 6, 7, 9, 11],\n",
    "     \"max_depth\": [2, 3, 4, 5],\n",
    "     \"learning_rate\" : [0.5, 0.7, 0.9, 1.1]}\n",
    "res=[Models[2], data_NO]\n",
    "res.extend(train(X, y, model3, params, spliter, scores={\"acc\" : make_scorer(accuracy_score), \"f1\" : make_scorer(f1_score, average=\"macro\")}))\n",
    "data.append(res)\n",
    "data[-1]"
   ]
  },
  {
   "cell_type": "code",
   "execution_count": 74,
   "id": "aa366884-8334-4953-84e6-69762fb2edb9",
   "metadata": {
    "tags": []
   },
   "outputs": [
    {
     "data": {
      "text/plain": [
       "['KNeighborsClassifier',\n",
       " 1,\n",
       " {'n_neighbors': 3},\n",
       " 0.9615384615384615,\n",
       " 0.9607522851477487]"
      ]
     },
     "execution_count": 74,
     "metadata": {},
     "output_type": "execute_result"
    }
   ],
   "source": [
    "model4 = KNeighborsClassifier()\n",
    "params = \\\n",
    "    {\"n_neighbors\": [3, 4, 5, 7, 10]}\n",
    "res=[Models[3], data_NO]\n",
    "res.extend(train(X, y, model4, params, spliter, scores={\"acc\" : make_scorer(accuracy_score), \"f1\" : make_scorer(f1_score, average=\"macro\")}))\n",
    "data.append(res)\n",
    "data[-1]"
   ]
  },
  {
   "cell_type": "code",
   "execution_count": 75,
   "id": "e038a0f4-0bda-453c-af10-0d174c7b94b0",
   "metadata": {
    "tags": []
   },
   "outputs": [
    {
     "data": {
      "text/plain": [
       "['LogisticRegression',\n",
       " 1,\n",
       " {'max_iter': 50, 'penalty': 'l2'},\n",
       " 0.9615384615384617,\n",
       " 0.9607522851477487]"
      ]
     },
     "execution_count": 75,
     "metadata": {},
     "output_type": "execute_result"
    }
   ],
   "source": [
    "model5 = LogisticRegression()\n",
    "params = \\\n",
    "    {'penalty': ['l2'],\n",
    "    'max_iter': [50, 75, 100, 150, 200, 350]}\n",
    "res=[Models[4], data_NO]\n",
    "res.extend(train(X, y, model5, params, spliter, scores={\"acc\" : make_scorer(accuracy_score), \"f1\" : make_scorer(f1_score, average=\"macro\")}))\n",
    "data.append(res)\n",
    "data[-1]"
   ]
  },
  {
   "cell_type": "markdown",
   "id": "3ef257d8-5c3d-49b9-aff7-4d282f849ed4",
   "metadata": {
    "jp-MarkdownHeadingCollapsed": true,
    "tags": []
   },
   "source": [
    "# SECOND DATASET"
   ]
  },
  {
   "cell_type": "code",
   "execution_count": 76,
   "id": "e2263e9f-4bc0-493a-a43d-c68bc2477f7e",
   "metadata": {
    "tags": []
   },
   "outputs": [],
   "source": [
    "wine_quality = fetch_ucirepo(id=186) \n",
    "\n",
    "X = wine_quality.data.features \n",
    "y = wine_quality.data.targets "
   ]
  },
  {
   "cell_type": "code",
   "execution_count": 77,
   "id": "d119635e-3abb-49ab-bab9-8434c299d19b",
   "metadata": {
    "tags": []
   },
   "outputs": [
    {
     "data": {
      "text/html": [
       "<div>\n",
       "<style scoped>\n",
       "    .dataframe tbody tr th:only-of-type {\n",
       "        vertical-align: middle;\n",
       "    }\n",
       "\n",
       "    .dataframe tbody tr th {\n",
       "        vertical-align: top;\n",
       "    }\n",
       "\n",
       "    .dataframe thead th {\n",
       "        text-align: right;\n",
       "    }\n",
       "</style>\n",
       "<table border=\"1\" class=\"dataframe\">\n",
       "  <thead>\n",
       "    <tr style=\"text-align: right;\">\n",
       "      <th></th>\n",
       "      <th>fixed_acidity</th>\n",
       "      <th>volatile_acidity</th>\n",
       "      <th>citric_acid</th>\n",
       "      <th>residual_sugar</th>\n",
       "      <th>chlorides</th>\n",
       "      <th>free_sulfur_dioxide</th>\n",
       "      <th>total_sulfur_dioxide</th>\n",
       "      <th>density</th>\n",
       "      <th>pH</th>\n",
       "      <th>sulphates</th>\n",
       "      <th>alcohol</th>\n",
       "    </tr>\n",
       "  </thead>\n",
       "  <tbody>\n",
       "    <tr>\n",
       "      <th>0</th>\n",
       "      <td>7.4</td>\n",
       "      <td>0.70</td>\n",
       "      <td>0.00</td>\n",
       "      <td>1.9</td>\n",
       "      <td>0.076</td>\n",
       "      <td>11.0</td>\n",
       "      <td>34.0</td>\n",
       "      <td>0.99780</td>\n",
       "      <td>3.51</td>\n",
       "      <td>0.56</td>\n",
       "      <td>9.4</td>\n",
       "    </tr>\n",
       "    <tr>\n",
       "      <th>1</th>\n",
       "      <td>7.8</td>\n",
       "      <td>0.88</td>\n",
       "      <td>0.00</td>\n",
       "      <td>2.6</td>\n",
       "      <td>0.098</td>\n",
       "      <td>25.0</td>\n",
       "      <td>67.0</td>\n",
       "      <td>0.99680</td>\n",
       "      <td>3.20</td>\n",
       "      <td>0.68</td>\n",
       "      <td>9.8</td>\n",
       "    </tr>\n",
       "    <tr>\n",
       "      <th>2</th>\n",
       "      <td>7.8</td>\n",
       "      <td>0.76</td>\n",
       "      <td>0.04</td>\n",
       "      <td>2.3</td>\n",
       "      <td>0.092</td>\n",
       "      <td>15.0</td>\n",
       "      <td>54.0</td>\n",
       "      <td>0.99700</td>\n",
       "      <td>3.26</td>\n",
       "      <td>0.65</td>\n",
       "      <td>9.8</td>\n",
       "    </tr>\n",
       "    <tr>\n",
       "      <th>3</th>\n",
       "      <td>11.2</td>\n",
       "      <td>0.28</td>\n",
       "      <td>0.56</td>\n",
       "      <td>1.9</td>\n",
       "      <td>0.075</td>\n",
       "      <td>17.0</td>\n",
       "      <td>60.0</td>\n",
       "      <td>0.99800</td>\n",
       "      <td>3.16</td>\n",
       "      <td>0.58</td>\n",
       "      <td>9.8</td>\n",
       "    </tr>\n",
       "    <tr>\n",
       "      <th>4</th>\n",
       "      <td>7.4</td>\n",
       "      <td>0.70</td>\n",
       "      <td>0.00</td>\n",
       "      <td>1.9</td>\n",
       "      <td>0.076</td>\n",
       "      <td>11.0</td>\n",
       "      <td>34.0</td>\n",
       "      <td>0.99780</td>\n",
       "      <td>3.51</td>\n",
       "      <td>0.56</td>\n",
       "      <td>9.4</td>\n",
       "    </tr>\n",
       "    <tr>\n",
       "      <th>...</th>\n",
       "      <td>...</td>\n",
       "      <td>...</td>\n",
       "      <td>...</td>\n",
       "      <td>...</td>\n",
       "      <td>...</td>\n",
       "      <td>...</td>\n",
       "      <td>...</td>\n",
       "      <td>...</td>\n",
       "      <td>...</td>\n",
       "      <td>...</td>\n",
       "      <td>...</td>\n",
       "    </tr>\n",
       "    <tr>\n",
       "      <th>6492</th>\n",
       "      <td>6.2</td>\n",
       "      <td>0.21</td>\n",
       "      <td>0.29</td>\n",
       "      <td>1.6</td>\n",
       "      <td>0.039</td>\n",
       "      <td>24.0</td>\n",
       "      <td>92.0</td>\n",
       "      <td>0.99114</td>\n",
       "      <td>3.27</td>\n",
       "      <td>0.50</td>\n",
       "      <td>11.2</td>\n",
       "    </tr>\n",
       "    <tr>\n",
       "      <th>6493</th>\n",
       "      <td>6.6</td>\n",
       "      <td>0.32</td>\n",
       "      <td>0.36</td>\n",
       "      <td>8.0</td>\n",
       "      <td>0.047</td>\n",
       "      <td>57.0</td>\n",
       "      <td>168.0</td>\n",
       "      <td>0.99490</td>\n",
       "      <td>3.15</td>\n",
       "      <td>0.46</td>\n",
       "      <td>9.6</td>\n",
       "    </tr>\n",
       "    <tr>\n",
       "      <th>6494</th>\n",
       "      <td>6.5</td>\n",
       "      <td>0.24</td>\n",
       "      <td>0.19</td>\n",
       "      <td>1.2</td>\n",
       "      <td>0.041</td>\n",
       "      <td>30.0</td>\n",
       "      <td>111.0</td>\n",
       "      <td>0.99254</td>\n",
       "      <td>2.99</td>\n",
       "      <td>0.46</td>\n",
       "      <td>9.4</td>\n",
       "    </tr>\n",
       "    <tr>\n",
       "      <th>6495</th>\n",
       "      <td>5.5</td>\n",
       "      <td>0.29</td>\n",
       "      <td>0.30</td>\n",
       "      <td>1.1</td>\n",
       "      <td>0.022</td>\n",
       "      <td>20.0</td>\n",
       "      <td>110.0</td>\n",
       "      <td>0.98869</td>\n",
       "      <td>3.34</td>\n",
       "      <td>0.38</td>\n",
       "      <td>12.8</td>\n",
       "    </tr>\n",
       "    <tr>\n",
       "      <th>6496</th>\n",
       "      <td>6.0</td>\n",
       "      <td>0.21</td>\n",
       "      <td>0.38</td>\n",
       "      <td>0.8</td>\n",
       "      <td>0.020</td>\n",
       "      <td>22.0</td>\n",
       "      <td>98.0</td>\n",
       "      <td>0.98941</td>\n",
       "      <td>3.26</td>\n",
       "      <td>0.32</td>\n",
       "      <td>11.8</td>\n",
       "    </tr>\n",
       "  </tbody>\n",
       "</table>\n",
       "<p>6497 rows × 11 columns</p>\n",
       "</div>"
      ],
      "text/plain": [
       "      fixed_acidity  volatile_acidity  citric_acid  residual_sugar  chlorides  \\\n",
       "0               7.4              0.70         0.00             1.9      0.076   \n",
       "1               7.8              0.88         0.00             2.6      0.098   \n",
       "2               7.8              0.76         0.04             2.3      0.092   \n",
       "3              11.2              0.28         0.56             1.9      0.075   \n",
       "4               7.4              0.70         0.00             1.9      0.076   \n",
       "...             ...               ...          ...             ...        ...   \n",
       "6492            6.2              0.21         0.29             1.6      0.039   \n",
       "6493            6.6              0.32         0.36             8.0      0.047   \n",
       "6494            6.5              0.24         0.19             1.2      0.041   \n",
       "6495            5.5              0.29         0.30             1.1      0.022   \n",
       "6496            6.0              0.21         0.38             0.8      0.020   \n",
       "\n",
       "      free_sulfur_dioxide  total_sulfur_dioxide  density    pH  sulphates  \\\n",
       "0                    11.0                  34.0  0.99780  3.51       0.56   \n",
       "1                    25.0                  67.0  0.99680  3.20       0.68   \n",
       "2                    15.0                  54.0  0.99700  3.26       0.65   \n",
       "3                    17.0                  60.0  0.99800  3.16       0.58   \n",
       "4                    11.0                  34.0  0.99780  3.51       0.56   \n",
       "...                   ...                   ...      ...   ...        ...   \n",
       "6492                 24.0                  92.0  0.99114  3.27       0.50   \n",
       "6493                 57.0                 168.0  0.99490  3.15       0.46   \n",
       "6494                 30.0                 111.0  0.99254  2.99       0.46   \n",
       "6495                 20.0                 110.0  0.98869  3.34       0.38   \n",
       "6496                 22.0                  98.0  0.98941  3.26       0.32   \n",
       "\n",
       "      alcohol  \n",
       "0         9.4  \n",
       "1         9.8  \n",
       "2         9.8  \n",
       "3         9.8  \n",
       "4         9.4  \n",
       "...       ...  \n",
       "6492     11.2  \n",
       "6493      9.6  \n",
       "6494      9.4  \n",
       "6495     12.8  \n",
       "6496     11.8  \n",
       "\n",
       "[6497 rows x 11 columns]"
      ]
     },
     "execution_count": 77,
     "metadata": {},
     "output_type": "execute_result"
    }
   ],
   "source": [
    "X"
   ]
  },
  {
   "cell_type": "code",
   "execution_count": 79,
   "id": "235af0b8-f83a-4d1b-a592-2192806477bf",
   "metadata": {
    "tags": []
   },
   "outputs": [],
   "source": [
    "for col in X.columns:\n",
    "    median_val = X[col].median()\n",
    "    X.loc[:, col] = X[col] >= median_val\n",
    "\n",
    "median_val = y['quality'].median()\n",
    "y.loc[:, 'quality'] = y['quality'] >= median_val"
   ]
  },
  {
   "cell_type": "code",
   "execution_count": 80,
   "id": "759bc45e-4eb2-4079-b649-fdcc9eedc3d2",
   "metadata": {
    "tags": []
   },
   "outputs": [],
   "source": [
    "data_NO = 2"
   ]
  },
  {
   "cell_type": "code",
   "execution_count": 81,
   "id": "d0239a4a-0cb9-4b4f-95ff-7ad1204f3d6f",
   "metadata": {
    "tags": []
   },
   "outputs": [
    {
     "data": {
      "text/plain": [
       "['DecisionTreeClassifier',\n",
       " 2,\n",
       " {'max_depth': 7, 'min_samples_split': 2},\n",
       " 0.731875762420797,\n",
       " 0.7305845498190744]"
      ]
     },
     "execution_count": 81,
     "metadata": {},
     "output_type": "execute_result"
    }
   ],
   "source": [
    "model1 = DecisionTreeClassifier(random_state=RAND)\n",
    "params = \\\n",
    "    {\"max_depth\": [5, 6, 7, 8, 9, 10, 15, 20, 30, 35, 40],\n",
    "     \"min_samples_split\": [1, 2, 4, 5, 10]}\n",
    "\n",
    "res=[Models[0], data_NO]\n",
    "res.extend(train(X, y, model1, params, spliter, scores={\"acc\" : make_scorer(accuracy_score), \"f1\" : make_scorer(f1_score, average=\"weighted\")}))\n",
    "data.append(res)\n",
    "data[-1]"
   ]
  },
  {
   "cell_type": "code",
   "execution_count": 82,
   "id": "27e1527f-2caf-4020-b1af-a228390fd3eb",
   "metadata": {
    "tags": []
   },
   "outputs": [
    {
     "data": {
      "text/plain": [
       "['RandomForestClassifier',\n",
       " 2,\n",
       " {'max_depth': 7, 'min_samples_split': 3, 'n_estimators': 150},\n",
       " 0.7434202641084859,\n",
       " 0.7364235877686385]"
      ]
     },
     "execution_count": 82,
     "metadata": {},
     "output_type": "execute_result"
    }
   ],
   "source": [
    "model2 = RandomForestClassifier(random_state=RAND)\n",
    "params = \\\n",
    "    {\"n_estimators\": [50, 100, 150],\n",
    "     \"max_depth\": [5, 6, 7],\n",
    "     \"min_samples_split\" : [2, 3]}\n",
    "res=[Models[1], data_NO]\n",
    "res.extend(train(X, y, model2, params, spliter, scores={\"acc\" : make_scorer(accuracy_score), \"f1\" : make_scorer(f1_score, average=\"weighted\")}))\n",
    "data.append(res)\n",
    "data[-1]"
   ]
  },
  {
   "cell_type": "code",
   "execution_count": 84,
   "id": "f7773097-bf14-4d90-a547-620985812e61",
   "metadata": {
    "tags": []
   },
   "outputs": [
    {
     "data": {
      "text/plain": [
       "['XGBClassifier',\n",
       " 2,\n",
       " {'learning_rate': 0.5, 'max_depth': 5, 'n_estimators': 9},\n",
       " 0.7452691419435069,\n",
       " 0.7417482800212071]"
      ]
     },
     "execution_count": 84,
     "metadata": {},
     "output_type": "execute_result"
    }
   ],
   "source": [
    "model3 = XGBClassifier(random_state=RAND)\n",
    "params = \\\n",
    "    {\"n_estimators\": [3, 5, 6, 7, 9, 11],\n",
    "     \"max_depth\": [2, 3, 4, 5],\n",
    "     \"learning_rate\" : [0.5, 0.7, 0.9, 1.1]}\n",
    "res=[Models[2], data_NO]\n",
    "res.extend(train(X, y, model3, params, spliter, scores={\"acc\" : make_scorer(accuracy_score), \"f1\" : make_scorer(f1_score, average=\"weighted\")}))\n",
    "data.append(res)\n",
    "data[-1]"
   ]
  },
  {
   "cell_type": "code",
   "execution_count": 85,
   "id": "69b0a4e8-e350-4e8d-9cef-cf208cb86746",
   "metadata": {
    "tags": []
   },
   "outputs": [
    {
     "data": {
      "text/plain": [
       "['KNeighborsClassifier',\n",
       " 2,\n",
       " {'n_neighbors': 10},\n",
       " 0.7257209687925623,\n",
       " 0.7257117441528619]"
      ]
     },
     "execution_count": 85,
     "metadata": {},
     "output_type": "execute_result"
    }
   ],
   "source": [
    "model4 = KNeighborsClassifier()\n",
    "params = \\\n",
    "    {\"n_neighbors\": [3, 4, 5, 7, 10]}\n",
    "res=[Models[3], data_NO]\n",
    "res.extend(train(X, y, model4, params, spliter, scores={\"acc\" : make_scorer(accuracy_score), \"f1\" : make_scorer(f1_score, average=\"weighted\")}))\n",
    "data.append(res)\n",
    "data[-1]"
   ]
  },
  {
   "cell_type": "code",
   "execution_count": 86,
   "id": "867ba2db-a18e-4fda-a0ad-8b6f097a7322",
   "metadata": {
    "tags": []
   },
   "outputs": [
    {
     "data": {
      "text/plain": [
       "['LogisticRegression',\n",
       " 2,\n",
       " {'max_iter': 50, 'penalty': 'l2'},\n",
       " 0.7212577722508439,\n",
       " 0.7137339950722925]"
      ]
     },
     "execution_count": 86,
     "metadata": {},
     "output_type": "execute_result"
    }
   ],
   "source": [
    "model5 = LogisticRegression()\n",
    "params = \\\n",
    "    {'penalty': ['l2'],\n",
    "    'max_iter': [50, 75, 100]}\n",
    "res=[Models[4], data_NO]\n",
    "res.extend(train(X, y, model5, params, spliter, scores={\"acc\" : make_scorer(accuracy_score), \"f1\" : make_scorer(f1_score, average=\"weighted\")}))\n",
    "data.append(res)\n",
    "data[-1]"
   ]
  },
  {
   "cell_type": "markdown",
   "id": "22b90b37-2c7b-42b1-97cb-1adf579bef91",
   "metadata": {},
   "source": [
    "# THIRD DATASET"
   ]
  },
  {
   "cell_type": "code",
   "execution_count": 15,
   "id": "00e746d8-4dab-4350-ab53-5d3a21536825",
   "metadata": {
    "tags": []
   },
   "outputs": [],
   "source": [
    "adult = fetch_ucirepo(id=2)\n",
    "X = adult.data.features \n",
    "y = adult.data.targets "
   ]
  },
  {
   "cell_type": "code",
   "execution_count": 16,
   "id": "60a8e4e3-bcfa-48cd-99b7-0af7206277d4",
   "metadata": {
    "tags": []
   },
   "outputs": [
    {
     "data": {
      "text/html": [
       "<div>\n",
       "<style scoped>\n",
       "    .dataframe tbody tr th:only-of-type {\n",
       "        vertical-align: middle;\n",
       "    }\n",
       "\n",
       "    .dataframe tbody tr th {\n",
       "        vertical-align: top;\n",
       "    }\n",
       "\n",
       "    .dataframe thead th {\n",
       "        text-align: right;\n",
       "    }\n",
       "</style>\n",
       "<table border=\"1\" class=\"dataframe\">\n",
       "  <thead>\n",
       "    <tr style=\"text-align: right;\">\n",
       "      <th></th>\n",
       "      <th>age</th>\n",
       "      <th>workclass</th>\n",
       "      <th>fnlwgt</th>\n",
       "      <th>education</th>\n",
       "      <th>education-num</th>\n",
       "      <th>marital-status</th>\n",
       "      <th>occupation</th>\n",
       "      <th>relationship</th>\n",
       "      <th>race</th>\n",
       "      <th>sex</th>\n",
       "      <th>capital-gain</th>\n",
       "      <th>capital-loss</th>\n",
       "      <th>hours-per-week</th>\n",
       "      <th>native-country</th>\n",
       "    </tr>\n",
       "  </thead>\n",
       "  <tbody>\n",
       "    <tr>\n",
       "      <th>0</th>\n",
       "      <td>39</td>\n",
       "      <td>State-gov</td>\n",
       "      <td>77516</td>\n",
       "      <td>Bachelors</td>\n",
       "      <td>13</td>\n",
       "      <td>Never-married</td>\n",
       "      <td>Adm-clerical</td>\n",
       "      <td>Not-in-family</td>\n",
       "      <td>White</td>\n",
       "      <td>Male</td>\n",
       "      <td>2174</td>\n",
       "      <td>0</td>\n",
       "      <td>40</td>\n",
       "      <td>United-States</td>\n",
       "    </tr>\n",
       "    <tr>\n",
       "      <th>1</th>\n",
       "      <td>50</td>\n",
       "      <td>Self-emp-not-inc</td>\n",
       "      <td>83311</td>\n",
       "      <td>Bachelors</td>\n",
       "      <td>13</td>\n",
       "      <td>Married-civ-spouse</td>\n",
       "      <td>Exec-managerial</td>\n",
       "      <td>Husband</td>\n",
       "      <td>White</td>\n",
       "      <td>Male</td>\n",
       "      <td>0</td>\n",
       "      <td>0</td>\n",
       "      <td>13</td>\n",
       "      <td>United-States</td>\n",
       "    </tr>\n",
       "    <tr>\n",
       "      <th>2</th>\n",
       "      <td>38</td>\n",
       "      <td>Private</td>\n",
       "      <td>215646</td>\n",
       "      <td>HS-grad</td>\n",
       "      <td>9</td>\n",
       "      <td>Divorced</td>\n",
       "      <td>Handlers-cleaners</td>\n",
       "      <td>Not-in-family</td>\n",
       "      <td>White</td>\n",
       "      <td>Male</td>\n",
       "      <td>0</td>\n",
       "      <td>0</td>\n",
       "      <td>40</td>\n",
       "      <td>United-States</td>\n",
       "    </tr>\n",
       "    <tr>\n",
       "      <th>3</th>\n",
       "      <td>53</td>\n",
       "      <td>Private</td>\n",
       "      <td>234721</td>\n",
       "      <td>11th</td>\n",
       "      <td>7</td>\n",
       "      <td>Married-civ-spouse</td>\n",
       "      <td>Handlers-cleaners</td>\n",
       "      <td>Husband</td>\n",
       "      <td>Black</td>\n",
       "      <td>Male</td>\n",
       "      <td>0</td>\n",
       "      <td>0</td>\n",
       "      <td>40</td>\n",
       "      <td>United-States</td>\n",
       "    </tr>\n",
       "    <tr>\n",
       "      <th>4</th>\n",
       "      <td>28</td>\n",
       "      <td>Private</td>\n",
       "      <td>338409</td>\n",
       "      <td>Bachelors</td>\n",
       "      <td>13</td>\n",
       "      <td>Married-civ-spouse</td>\n",
       "      <td>Prof-specialty</td>\n",
       "      <td>Wife</td>\n",
       "      <td>Black</td>\n",
       "      <td>Female</td>\n",
       "      <td>0</td>\n",
       "      <td>0</td>\n",
       "      <td>40</td>\n",
       "      <td>Cuba</td>\n",
       "    </tr>\n",
       "    <tr>\n",
       "      <th>...</th>\n",
       "      <td>...</td>\n",
       "      <td>...</td>\n",
       "      <td>...</td>\n",
       "      <td>...</td>\n",
       "      <td>...</td>\n",
       "      <td>...</td>\n",
       "      <td>...</td>\n",
       "      <td>...</td>\n",
       "      <td>...</td>\n",
       "      <td>...</td>\n",
       "      <td>...</td>\n",
       "      <td>...</td>\n",
       "      <td>...</td>\n",
       "      <td>...</td>\n",
       "    </tr>\n",
       "    <tr>\n",
       "      <th>48837</th>\n",
       "      <td>39</td>\n",
       "      <td>Private</td>\n",
       "      <td>215419</td>\n",
       "      <td>Bachelors</td>\n",
       "      <td>13</td>\n",
       "      <td>Divorced</td>\n",
       "      <td>Prof-specialty</td>\n",
       "      <td>Not-in-family</td>\n",
       "      <td>White</td>\n",
       "      <td>Female</td>\n",
       "      <td>0</td>\n",
       "      <td>0</td>\n",
       "      <td>36</td>\n",
       "      <td>United-States</td>\n",
       "    </tr>\n",
       "    <tr>\n",
       "      <th>48838</th>\n",
       "      <td>64</td>\n",
       "      <td>NaN</td>\n",
       "      <td>321403</td>\n",
       "      <td>HS-grad</td>\n",
       "      <td>9</td>\n",
       "      <td>Widowed</td>\n",
       "      <td>NaN</td>\n",
       "      <td>Other-relative</td>\n",
       "      <td>Black</td>\n",
       "      <td>Male</td>\n",
       "      <td>0</td>\n",
       "      <td>0</td>\n",
       "      <td>40</td>\n",
       "      <td>United-States</td>\n",
       "    </tr>\n",
       "    <tr>\n",
       "      <th>48839</th>\n",
       "      <td>38</td>\n",
       "      <td>Private</td>\n",
       "      <td>374983</td>\n",
       "      <td>Bachelors</td>\n",
       "      <td>13</td>\n",
       "      <td>Married-civ-spouse</td>\n",
       "      <td>Prof-specialty</td>\n",
       "      <td>Husband</td>\n",
       "      <td>White</td>\n",
       "      <td>Male</td>\n",
       "      <td>0</td>\n",
       "      <td>0</td>\n",
       "      <td>50</td>\n",
       "      <td>United-States</td>\n",
       "    </tr>\n",
       "    <tr>\n",
       "      <th>48840</th>\n",
       "      <td>44</td>\n",
       "      <td>Private</td>\n",
       "      <td>83891</td>\n",
       "      <td>Bachelors</td>\n",
       "      <td>13</td>\n",
       "      <td>Divorced</td>\n",
       "      <td>Adm-clerical</td>\n",
       "      <td>Own-child</td>\n",
       "      <td>Asian-Pac-Islander</td>\n",
       "      <td>Male</td>\n",
       "      <td>5455</td>\n",
       "      <td>0</td>\n",
       "      <td>40</td>\n",
       "      <td>United-States</td>\n",
       "    </tr>\n",
       "    <tr>\n",
       "      <th>48841</th>\n",
       "      <td>35</td>\n",
       "      <td>Self-emp-inc</td>\n",
       "      <td>182148</td>\n",
       "      <td>Bachelors</td>\n",
       "      <td>13</td>\n",
       "      <td>Married-civ-spouse</td>\n",
       "      <td>Exec-managerial</td>\n",
       "      <td>Husband</td>\n",
       "      <td>White</td>\n",
       "      <td>Male</td>\n",
       "      <td>0</td>\n",
       "      <td>0</td>\n",
       "      <td>60</td>\n",
       "      <td>United-States</td>\n",
       "    </tr>\n",
       "  </tbody>\n",
       "</table>\n",
       "<p>48842 rows × 14 columns</p>\n",
       "</div>"
      ],
      "text/plain": [
       "       age         workclass  fnlwgt  education  education-num  \\\n",
       "0       39         State-gov   77516  Bachelors             13   \n",
       "1       50  Self-emp-not-inc   83311  Bachelors             13   \n",
       "2       38           Private  215646    HS-grad              9   \n",
       "3       53           Private  234721       11th              7   \n",
       "4       28           Private  338409  Bachelors             13   \n",
       "...    ...               ...     ...        ...            ...   \n",
       "48837   39           Private  215419  Bachelors             13   \n",
       "48838   64               NaN  321403    HS-grad              9   \n",
       "48839   38           Private  374983  Bachelors             13   \n",
       "48840   44           Private   83891  Bachelors             13   \n",
       "48841   35      Self-emp-inc  182148  Bachelors             13   \n",
       "\n",
       "           marital-status         occupation    relationship  \\\n",
       "0           Never-married       Adm-clerical   Not-in-family   \n",
       "1      Married-civ-spouse    Exec-managerial         Husband   \n",
       "2                Divorced  Handlers-cleaners   Not-in-family   \n",
       "3      Married-civ-spouse  Handlers-cleaners         Husband   \n",
       "4      Married-civ-spouse     Prof-specialty            Wife   \n",
       "...                   ...                ...             ...   \n",
       "48837            Divorced     Prof-specialty   Not-in-family   \n",
       "48838             Widowed                NaN  Other-relative   \n",
       "48839  Married-civ-spouse     Prof-specialty         Husband   \n",
       "48840            Divorced       Adm-clerical       Own-child   \n",
       "48841  Married-civ-spouse    Exec-managerial         Husband   \n",
       "\n",
       "                     race     sex  capital-gain  capital-loss  hours-per-week  \\\n",
       "0                   White    Male          2174             0              40   \n",
       "1                   White    Male             0             0              13   \n",
       "2                   White    Male             0             0              40   \n",
       "3                   Black    Male             0             0              40   \n",
       "4                   Black  Female             0             0              40   \n",
       "...                   ...     ...           ...           ...             ...   \n",
       "48837               White  Female             0             0              36   \n",
       "48838               Black    Male             0             0              40   \n",
       "48839               White    Male             0             0              50   \n",
       "48840  Asian-Pac-Islander    Male          5455             0              40   \n",
       "48841               White    Male             0             0              60   \n",
       "\n",
       "      native-country  \n",
       "0      United-States  \n",
       "1      United-States  \n",
       "2      United-States  \n",
       "3      United-States  \n",
       "4               Cuba  \n",
       "...              ...  \n",
       "48837  United-States  \n",
       "48838  United-States  \n",
       "48839  United-States  \n",
       "48840  United-States  \n",
       "48841  United-States  \n",
       "\n",
       "[48842 rows x 14 columns]"
      ]
     },
     "execution_count": 16,
     "metadata": {},
     "output_type": "execute_result"
    }
   ],
   "source": [
    "X"
   ]
  },
  {
   "cell_type": "code",
   "execution_count": 17,
   "id": "065e3b62-70f0-47b6-aeae-f3cfe246eacd",
   "metadata": {
    "tags": []
   },
   "outputs": [],
   "source": [
    "X['workclass'] = X['workclass'].fillna('?')\n",
    "X['occupation'] = X['occupation'].fillna('?')\n",
    "X['native-country'] = X['native-country'].fillna('?')"
   ]
  },
  {
   "cell_type": "code",
   "execution_count": 18,
   "id": "2ae93089-d59f-42e7-9af4-a5b83ac98392",
   "metadata": {
    "tags": []
   },
   "outputs": [],
   "source": [
    "y['income'] = y['income'] == '<=50K'\n",
    "\n",
    "def convert_to_bool(column):\n",
    "    if column.dtype == 'object':\n",
    "        mode = column.mode()[0]\n",
    "        return column == mode\n",
    "    else:\n",
    "        median = column.median()\n",
    "        return column >= median\n",
    "\n",
    "X = X.iloc[:, 1:].apply(convert_to_bool)"
   ]
  },
  {
   "cell_type": "code",
   "execution_count": 19,
   "id": "d1719148-b6cc-44fa-9a51-f33658931e12",
   "metadata": {
    "tags": []
   },
   "outputs": [
    {
     "data": {
      "text/html": [
       "<div>\n",
       "<style scoped>\n",
       "    .dataframe tbody tr th:only-of-type {\n",
       "        vertical-align: middle;\n",
       "    }\n",
       "\n",
       "    .dataframe tbody tr th {\n",
       "        vertical-align: top;\n",
       "    }\n",
       "\n",
       "    .dataframe thead th {\n",
       "        text-align: right;\n",
       "    }\n",
       "</style>\n",
       "<table border=\"1\" class=\"dataframe\">\n",
       "  <thead>\n",
       "    <tr style=\"text-align: right;\">\n",
       "      <th></th>\n",
       "      <th>workclass</th>\n",
       "      <th>fnlwgt</th>\n",
       "      <th>education</th>\n",
       "      <th>education-num</th>\n",
       "      <th>marital-status</th>\n",
       "      <th>occupation</th>\n",
       "      <th>relationship</th>\n",
       "      <th>race</th>\n",
       "      <th>sex</th>\n",
       "      <th>capital-gain</th>\n",
       "      <th>capital-loss</th>\n",
       "      <th>hours-per-week</th>\n",
       "      <th>native-country</th>\n",
       "    </tr>\n",
       "  </thead>\n",
       "  <tbody>\n",
       "    <tr>\n",
       "      <th>0</th>\n",
       "      <td>False</td>\n",
       "      <td>False</td>\n",
       "      <td>False</td>\n",
       "      <td>True</td>\n",
       "      <td>False</td>\n",
       "      <td>False</td>\n",
       "      <td>False</td>\n",
       "      <td>True</td>\n",
       "      <td>True</td>\n",
       "      <td>True</td>\n",
       "      <td>True</td>\n",
       "      <td>True</td>\n",
       "      <td>True</td>\n",
       "    </tr>\n",
       "    <tr>\n",
       "      <th>1</th>\n",
       "      <td>False</td>\n",
       "      <td>False</td>\n",
       "      <td>False</td>\n",
       "      <td>True</td>\n",
       "      <td>True</td>\n",
       "      <td>False</td>\n",
       "      <td>True</td>\n",
       "      <td>True</td>\n",
       "      <td>True</td>\n",
       "      <td>True</td>\n",
       "      <td>True</td>\n",
       "      <td>False</td>\n",
       "      <td>True</td>\n",
       "    </tr>\n",
       "    <tr>\n",
       "      <th>2</th>\n",
       "      <td>True</td>\n",
       "      <td>True</td>\n",
       "      <td>True</td>\n",
       "      <td>False</td>\n",
       "      <td>False</td>\n",
       "      <td>False</td>\n",
       "      <td>False</td>\n",
       "      <td>True</td>\n",
       "      <td>True</td>\n",
       "      <td>True</td>\n",
       "      <td>True</td>\n",
       "      <td>True</td>\n",
       "      <td>True</td>\n",
       "    </tr>\n",
       "    <tr>\n",
       "      <th>3</th>\n",
       "      <td>True</td>\n",
       "      <td>True</td>\n",
       "      <td>False</td>\n",
       "      <td>False</td>\n",
       "      <td>True</td>\n",
       "      <td>False</td>\n",
       "      <td>True</td>\n",
       "      <td>False</td>\n",
       "      <td>True</td>\n",
       "      <td>True</td>\n",
       "      <td>True</td>\n",
       "      <td>True</td>\n",
       "      <td>True</td>\n",
       "    </tr>\n",
       "    <tr>\n",
       "      <th>4</th>\n",
       "      <td>True</td>\n",
       "      <td>True</td>\n",
       "      <td>False</td>\n",
       "      <td>True</td>\n",
       "      <td>True</td>\n",
       "      <td>True</td>\n",
       "      <td>False</td>\n",
       "      <td>False</td>\n",
       "      <td>False</td>\n",
       "      <td>True</td>\n",
       "      <td>True</td>\n",
       "      <td>True</td>\n",
       "      <td>False</td>\n",
       "    </tr>\n",
       "    <tr>\n",
       "      <th>...</th>\n",
       "      <td>...</td>\n",
       "      <td>...</td>\n",
       "      <td>...</td>\n",
       "      <td>...</td>\n",
       "      <td>...</td>\n",
       "      <td>...</td>\n",
       "      <td>...</td>\n",
       "      <td>...</td>\n",
       "      <td>...</td>\n",
       "      <td>...</td>\n",
       "      <td>...</td>\n",
       "      <td>...</td>\n",
       "      <td>...</td>\n",
       "    </tr>\n",
       "    <tr>\n",
       "      <th>48837</th>\n",
       "      <td>True</td>\n",
       "      <td>True</td>\n",
       "      <td>False</td>\n",
       "      <td>True</td>\n",
       "      <td>False</td>\n",
       "      <td>True</td>\n",
       "      <td>False</td>\n",
       "      <td>True</td>\n",
       "      <td>False</td>\n",
       "      <td>True</td>\n",
       "      <td>True</td>\n",
       "      <td>False</td>\n",
       "      <td>True</td>\n",
       "    </tr>\n",
       "    <tr>\n",
       "      <th>48838</th>\n",
       "      <td>False</td>\n",
       "      <td>True</td>\n",
       "      <td>True</td>\n",
       "      <td>False</td>\n",
       "      <td>False</td>\n",
       "      <td>False</td>\n",
       "      <td>False</td>\n",
       "      <td>False</td>\n",
       "      <td>True</td>\n",
       "      <td>True</td>\n",
       "      <td>True</td>\n",
       "      <td>True</td>\n",
       "      <td>True</td>\n",
       "    </tr>\n",
       "    <tr>\n",
       "      <th>48839</th>\n",
       "      <td>True</td>\n",
       "      <td>True</td>\n",
       "      <td>False</td>\n",
       "      <td>True</td>\n",
       "      <td>True</td>\n",
       "      <td>True</td>\n",
       "      <td>True</td>\n",
       "      <td>True</td>\n",
       "      <td>True</td>\n",
       "      <td>True</td>\n",
       "      <td>True</td>\n",
       "      <td>True</td>\n",
       "      <td>True</td>\n",
       "    </tr>\n",
       "    <tr>\n",
       "      <th>48840</th>\n",
       "      <td>True</td>\n",
       "      <td>False</td>\n",
       "      <td>False</td>\n",
       "      <td>True</td>\n",
       "      <td>False</td>\n",
       "      <td>False</td>\n",
       "      <td>False</td>\n",
       "      <td>False</td>\n",
       "      <td>True</td>\n",
       "      <td>True</td>\n",
       "      <td>True</td>\n",
       "      <td>True</td>\n",
       "      <td>True</td>\n",
       "    </tr>\n",
       "    <tr>\n",
       "      <th>48841</th>\n",
       "      <td>False</td>\n",
       "      <td>True</td>\n",
       "      <td>False</td>\n",
       "      <td>True</td>\n",
       "      <td>True</td>\n",
       "      <td>False</td>\n",
       "      <td>True</td>\n",
       "      <td>True</td>\n",
       "      <td>True</td>\n",
       "      <td>True</td>\n",
       "      <td>True</td>\n",
       "      <td>True</td>\n",
       "      <td>True</td>\n",
       "    </tr>\n",
       "  </tbody>\n",
       "</table>\n",
       "<p>48842 rows × 13 columns</p>\n",
       "</div>"
      ],
      "text/plain": [
       "       workclass  fnlwgt  education  education-num  marital-status  \\\n",
       "0          False   False      False           True           False   \n",
       "1          False   False      False           True            True   \n",
       "2           True    True       True          False           False   \n",
       "3           True    True      False          False            True   \n",
       "4           True    True      False           True            True   \n",
       "...          ...     ...        ...            ...             ...   \n",
       "48837       True    True      False           True           False   \n",
       "48838      False    True       True          False           False   \n",
       "48839       True    True      False           True            True   \n",
       "48840       True   False      False           True           False   \n",
       "48841      False    True      False           True            True   \n",
       "\n",
       "       occupation  relationship   race    sex  capital-gain  capital-loss  \\\n",
       "0           False         False   True   True          True          True   \n",
       "1           False          True   True   True          True          True   \n",
       "2           False         False   True   True          True          True   \n",
       "3           False          True  False   True          True          True   \n",
       "4            True         False  False  False          True          True   \n",
       "...           ...           ...    ...    ...           ...           ...   \n",
       "48837        True         False   True  False          True          True   \n",
       "48838       False         False  False   True          True          True   \n",
       "48839        True          True   True   True          True          True   \n",
       "48840       False         False  False   True          True          True   \n",
       "48841       False          True   True   True          True          True   \n",
       "\n",
       "       hours-per-week  native-country  \n",
       "0                True            True  \n",
       "1               False            True  \n",
       "2                True            True  \n",
       "3                True            True  \n",
       "4                True           False  \n",
       "...               ...             ...  \n",
       "48837           False            True  \n",
       "48838            True            True  \n",
       "48839            True            True  \n",
       "48840            True            True  \n",
       "48841            True            True  \n",
       "\n",
       "[48842 rows x 13 columns]"
      ]
     },
     "execution_count": 19,
     "metadata": {},
     "output_type": "execute_result"
    }
   ],
   "source": [
    "X"
   ]
  },
  {
   "cell_type": "code",
   "execution_count": 20,
   "id": "e7192e65-f1de-498c-b04f-c9712fe9325b",
   "metadata": {
    "tags": []
   },
   "outputs": [],
   "source": [
    "data_NO = 3"
   ]
  },
  {
   "cell_type": "code",
   "execution_count": 27,
   "id": "7295ff5d-7bc7-4218-a8d3-0af07c7429d9",
   "metadata": {
    "tags": []
   },
   "outputs": [
    {
     "data": {
      "text/plain": [
       "['DecisionTreeClassifier',\n",
       " 3,\n",
       " {'max_depth': 5, 'min_samples_split': 2},\n",
       " 0.6366446423437926,\n",
       " 0.6704662419159959]"
      ]
     },
     "execution_count": 27,
     "metadata": {},
     "output_type": "execute_result"
    }
   ],
   "source": [
    "model1 = DecisionTreeClassifier(random_state=RAND)\n",
    "params = \\\n",
    "    {\"max_depth\": [5, 10, 15],\n",
    "     \"min_samples_split\": [2, 4, 5]}\n",
    "\n",
    "res=[Models[0], data_NO]\n",
    "res.extend(train(X, y, model1, params, spliter, scores={\"acc\" : make_scorer(accuracy_score), \"f1\" : make_scorer(f1_score)}))\n",
    "data.append(res)\n",
    "data[-1]"
   ]
  },
  {
   "cell_type": "code",
   "execution_count": 28,
   "id": "2fb3869c-7a71-4950-a5c1-3e40dd8ae96f",
   "metadata": {
    "tags": []
   },
   "outputs": [
    {
     "data": {
      "text/plain": [
       "['RandomForestClassifier',\n",
       " 3,\n",
       " {'max_depth': 7, 'min_samples_split': 2, 'n_estimators': 100},\n",
       " 0.6348019072683828,\n",
       " 0.6719955283110995]"
      ]
     },
     "execution_count": 28,
     "metadata": {},
     "output_type": "execute_result"
    }
   ],
   "source": [
    "model2 = RandomForestClassifier(random_state=RAND)\n",
    "params = \\\n",
    "    {\"n_estimators\": [50, 100, 150],\n",
    "     \"max_depth\": [5, 6, 7],\n",
    "     \"min_samples_split\" : [2, 3]}\n",
    "res=[Models[1], data_NO]\n",
    "res.extend(train(X, y, model2, params, spliter, scores={\"acc\" : make_scorer(accuracy_score), \"f1\" : make_scorer(f1_score)}))\n",
    "data.append(res)\n",
    "data[-1]"
   ]
  },
  {
   "cell_type": "code",
   "execution_count": 29,
   "id": "818a1492-ba18-40f7-9afb-f17dae8de924",
   "metadata": {
    "tags": []
   },
   "outputs": [
    {
     "data": {
      "text/plain": [
       "['XGBClassifier',\n",
       " 3,\n",
       " {'learning_rate': 0.5, 'max_depth': 3, 'n_estimators': 3},\n",
       " 0.6359894563600164,\n",
       " 0.6750761480430384]"
      ]
     },
     "execution_count": 29,
     "metadata": {},
     "output_type": "execute_result"
    }
   ],
   "source": [
    "model3 = XGBClassifier(random_state=RAND)\n",
    "params = \\\n",
    "    {\"n_estimators\": [3, 5, 6, 7, 9, 11],\n",
    "     \"max_depth\": [2, 3, 4, 5],\n",
    "     \"learning_rate\" : [0.5, 0.7, 0.9, 1.1]}\n",
    "res=[Models[2], data_NO]\n",
    "res.extend(train(X, y, model3, params, spliter, scores={\"acc\" : make_scorer(accuracy_score), \"f1\" : make_scorer(f1_score)}))\n",
    "data.append(res)\n",
    "data[-1]"
   ]
  },
  {
   "cell_type": "code",
   "execution_count": 30,
   "id": "f84b10ae-4cc6-4fb5-ad00-fb86d9475b0a",
   "metadata": {
    "tags": []
   },
   "outputs": [
    {
     "data": {
      "text/plain": [
       "['KNeighborsClassifier',\n",
       " 3,\n",
       " {'n_neighbors': 7},\n",
       " 0.6034354606982307,\n",
       " 0.6884061317131753]"
      ]
     },
     "execution_count": 30,
     "metadata": {},
     "output_type": "execute_result"
    }
   ],
   "source": [
    "model4 = KNeighborsClassifier()\n",
    "params = \\\n",
    "    {\"n_neighbors\": [3, 4, 5, 7, 10]}\n",
    "res=[Models[3], data_NO]\n",
    "res.extend(train(X, y, model4, params, spliter, scores={\"acc\" : make_scorer(accuracy_score), \"f1\" : make_scorer(f1_score)}))\n",
    "data.append(res)\n",
    "data[-1]"
   ]
  },
  {
   "cell_type": "code",
   "execution_count": 31,
   "id": "d85d1fe5-cb93-4cf0-8761-d22e0f0108ab",
   "metadata": {
    "tags": []
   },
   "outputs": [
    {
     "data": {
      "text/plain": [
       "['LogisticRegression',\n",
       " 3,\n",
       " {'max_iter': 50, 'penalty': 'l2'},\n",
       " 0.6248718933154391,\n",
       " 0.6326510569761636]"
      ]
     },
     "execution_count": 31,
     "metadata": {},
     "output_type": "execute_result"
    }
   ],
   "source": [
    "model5 = LogisticRegression()\n",
    "params = \\\n",
    "    {'penalty': ['l2'],\n",
    "    'max_iter': [50, 75, 100]}\n",
    "res=[Models[4], data_NO]\n",
    "res.extend(train(X, y, model5, params, spliter, scores={\"acc\" : make_scorer(accuracy_score), \"f1\" : make_scorer(f1_score)}))\n",
    "data.append(res)\n",
    "data[-1]"
   ]
  },
  {
   "cell_type": "code",
   "execution_count": null,
   "id": "49c85a6a-844b-40f5-8abe-6f1bbad8e2ef",
   "metadata": {
    "tags": []
   },
   "outputs": [],
   "source": [
    "report"
   ]
  }
 ],
 "metadata": {
  "kernelspec": {
   "display_name": "Python 3 (ipykernel)",
   "language": "python",
   "name": "python3"
  },
  "language_info": {
   "codemirror_mode": {
    "name": "ipython",
    "version": 3
   },
   "file_extension": ".py",
   "mimetype": "text/x-python",
   "name": "python",
   "nbconvert_exporter": "python",
   "pygments_lexer": "ipython3",
   "version": "3.11.4"
  }
 },
 "nbformat": 4,
 "nbformat_minor": 5
}
